{
 "cells": [
  {
   "cell_type": "code",
   "execution_count": 1,
   "id": "2d7d6c85",
   "metadata": {},
   "outputs": [
    {
     "ename": "ModuleNotFoundError",
     "evalue": "No module named 'cartopy'",
     "output_type": "error",
     "traceback": [
      "\u001b[1;31m---------------------------------------------------------------------------\u001b[0m",
      "\u001b[1;31mModuleNotFoundError\u001b[0m                       Traceback (most recent call last)",
      "\u001b[1;32m<ipython-input-1-735dbec90288>\u001b[0m in \u001b[0;36m<module>\u001b[1;34m\u001b[0m\n\u001b[0;32m      1\u001b[0m \u001b[1;32mimport\u001b[0m \u001b[0mxarray\u001b[0m \u001b[1;32mas\u001b[0m \u001b[0mxr\u001b[0m\u001b[1;33m\u001b[0m\u001b[1;33m\u001b[0m\u001b[0m\n\u001b[1;32m----> 2\u001b[1;33m \u001b[1;32mimport\u001b[0m \u001b[0mcartopy\u001b[0m\u001b[1;33m.\u001b[0m\u001b[0mcrs\u001b[0m \u001b[1;32mas\u001b[0m \u001b[0mccrs\u001b[0m\u001b[1;33m\u001b[0m\u001b[1;33m\u001b[0m\u001b[0m\n\u001b[0m\u001b[0;32m      3\u001b[0m \u001b[1;32mimport\u001b[0m \u001b[0mmatplotlib\u001b[0m\u001b[1;33m.\u001b[0m\u001b[0mpyplot\u001b[0m \u001b[1;32mas\u001b[0m \u001b[0mplt\u001b[0m\u001b[1;33m\u001b[0m\u001b[1;33m\u001b[0m\u001b[0m\n\u001b[0;32m      4\u001b[0m \u001b[1;32mimport\u001b[0m \u001b[0mnumpy\u001b[0m \u001b[1;32mas\u001b[0m \u001b[0mnp\u001b[0m\u001b[1;33m\u001b[0m\u001b[1;33m\u001b[0m\u001b[0m\n\u001b[0;32m      5\u001b[0m \u001b[1;32mimport\u001b[0m \u001b[0mcmocean\u001b[0m\u001b[1;33m\u001b[0m\u001b[1;33m\u001b[0m\u001b[0m\n",
      "\u001b[1;31mModuleNotFoundError\u001b[0m: No module named 'cartopy'"
     ]
    }
   ],
   "source": [
    "import xarray as xr\n",
    "import cartopy.crs as ccrs\n",
    "import matplotlib.pyplot as plt\n",
    "import numpy as np\n",
    "import cmocean\n",
    "import unit_conversion\n",
    "import argparse"
   ]
  },
  {
   "cell_type": "markdown",
   "id": "61145934",
   "metadata": {},
   "source": [
    "# PROCESAMIENTO Y VISUALIZACIÓN DE DATOS"
   ]
  },
  {
   "cell_type": "code",
   "execution_count": null,
   "id": "0e583128",
   "metadata": {},
   "outputs": [],
   "source": [
    "accesscm2_pr_file = 'data/pr_Amon_ACCESS-CM2_historical_r1i1p1f1_gn_201001-201412.nc'\n",
    "\n",
    "dset = xr.open_dataset(accesscm2_pr_file)\n",
    "\n",
    "clim = dset['pr'].mean('time', keep_attrs=True)\n",
    "\n",
    "clim.data = clim.data * 86400\n",
    "clim.attrs['units'] = 'mm/day'\n",
    "\n",
    "fig = plt.figure(figsize=[12,5])\n",
    "ax = fig.add_subplot(111, projection=ccrs.PlateCarree(central_longitude=180))\n",
    "clim.plot.contourf(ax=ax,\n",
    "                   levels=np.arange(0, 13.5, 1.5),\n",
    "                   extend='max',\n",
    "                   transform=ccrs.PlateCarree(),\n",
    "                   cbar_kwargs={'label': clim.units},\n",
    "                   cmap='viridis_r')\n",
    "ax.coastlines()\n",
    "plt.show()"
   ]
  },
  {
   "cell_type": "code",
   "execution_count": null,
   "id": "412ee4f2",
   "metadata": {},
   "outputs": [],
   "source": [
    "fig = plt.figure(figsize=[12,5])\n",
    "ax = fig.add_subplot(111, projection=ccrs.PlateCarree(central_longitude=180))\n",
    "clim.plot.contourf(ax=ax,\n",
    "                   levels=np.arange(0, 13.5, 1.5),\n",
    "                   extend='max',\n",
    "                   transform=ccrs.PlateCarree(),\n",
    "                   cbar_kwargs={'label': clim.units},\n",
    "                   cmap=cmocean.cm.haline_r)\n",
    "ax.coastlines()\n",
    "plt.show()"
   ]
  },
  {
   "cell_type": "code",
   "execution_count": null,
   "id": "daa0412f",
   "metadata": {},
   "outputs": [],
   "source": [
    "clim = dset['pr'].groupby('time.season').mean('time', keep_attrs=True) \n",
    "clim.data = clim.data * 86400\n",
    "clim.attrs['units'] = 'mm/day'\n",
    "\n",
    "clim.sel(season='JJA').plot.contourf(ax=ax,\n",
    "                                     levels=np.arange(0, 13.5, 1.5),\n",
    "                                     extend='max',\n",
    "                                     transform=ccrs.PlateCarree(),\n",
    "                                     cbar_kwargs={'label': clim.units},\n",
    "                                     cmap=cmocean.cm.haline_r)\n",
    "ax.coastlines()\n",
    "plt.show()\n"
   ]
  },
  {
   "cell_type": "code",
   "execution_count": null,
   "id": "cfdad25a",
   "metadata": {},
   "outputs": [],
   "source": [
    "dset = xr.open_dataset(accesscm2_pr_file)\n",
    "\n",
    "clim = dset['pr'].groupby('time.season').mean('time', keep_attrs=True)\n",
    "\n",
    "clim.data = clim.data * 86400\n",
    "clim.attrs['units'] = 'mm/day'\n",
    "\n",
    "fig = plt.figure(figsize=[12,5])\n",
    "ax = fig.add_subplot(111, projection=ccrs.PlateCarree(central_longitude=180))\n",
    "clim.sel(season='JJA').plot.contourf(ax=ax,\n",
    "                                     levels=np.arange(0, 13.5, 1.5),\n",
    "                                     extend='max',\n",
    "                                     transform=ccrs.PlateCarree(),\n",
    "                                     cbar_kwargs={'label': clim.units},\n",
    "                                     cmap=cmocean.cm.haline_r)\n",
    "ax.coastlines()\n",
    "\n",
    "model = dset.attrs['source_id']\n",
    "title = f'{model} precipitation climatology (JJA)'\n",
    "plt.title(title)\n",
    "\n",
    "plt.show()"
   ]
  },
  {
   "cell_type": "markdown",
   "id": "b198995e",
   "metadata": {},
   "source": [
    "# Funciones"
   ]
  },
  {
   "cell_type": "code",
   "execution_count": null,
   "id": "9f89cead",
   "metadata": {},
   "outputs": [],
   "source": [
    "def plot_pr_climatology(pr_file, season, gridlines=False):\n",
    "    \"\"\"Plot the precipitation climatology.\n",
    "    \n",
    "    Args:\n",
    "      pr_file (str): Precipitation data file\n",
    "      season (str): Season (3 letter abbreviation, e.g. JJA)\n",
    "      gridlines (bool): Select whether to plot gridlines\n",
    "    \n",
    "    \"\"\"\n",
    "\n",
    "    dset = xr.open_dataset(pr_file)\n",
    "\n",
    "    clim = dset['pr'].groupby('time.season').mean('time', keep_attrs=True)\n",
    "\n",
    "    clim.data = clim.data * 86400\n",
    "    clim.attrs['units'] = 'mm/day'\n",
    "\n",
    "    fig = plt.figure(figsize=[12,5])\n",
    "    ax = fig.add_subplot(111, projection=ccrs.PlateCarree(central_longitude=180))\n",
    "    clim.sel(season=season).plot.contourf(ax=ax,\n",
    "                                          levels=np.arange(0, 13.5, 1.5),\n",
    "                                          extend='max',\n",
    "                                          transform=ccrs.PlateCarree(),\n",
    "                                          cbar_kwargs={'label': clim.units},\n",
    "                                          cmap=cmocean.cm.haline_r)\n",
    "    ax.coastlines()\n",
    "    if gridlines:\n",
    "        plt.gca().gridlines()\n",
    "    \n",
    "    model = dset.attrs['source_id']\n",
    "    title = f'{model} precipitation climatology ({season})'\n",
    "    plt.title(title)"
   ]
  },
  {
   "cell_type": "code",
   "execution_count": null,
   "id": "c6e79cd2",
   "metadata": {},
   "outputs": [],
   "source": [
    "help(plot_pr_climatology)"
   ]
  },
  {
   "cell_type": "code",
   "execution_count": null,
   "id": "2434f7a9",
   "metadata": {},
   "outputs": [],
   "source": [
    "plot_pr_climatology('data/pr_Amon_ACCESS-CM2_historical_r1i1p1f1_gn_201001-201412.nc', 'JJA')\n",
    "plt.show()"
   ]
  },
  {
   "cell_type": "code",
   "execution_count": null,
   "id": "54e05183",
   "metadata": {},
   "outputs": [],
   "source": [
    "plot_pr_climatology('data/pr_Amon_ACCESS-ESM1-5_historical_r1i1p1f1_gn_201001-201412.nc', 'DJF')\n",
    "plt.show()"
   ]
  },
  {
   "cell_type": "code",
   "execution_count": null,
   "id": "57ebd6a5",
   "metadata": {},
   "outputs": [],
   "source": [
    "plot_pr_climatology('data/pr_Amon_ACCESS-ESM1-5_historical_r1i1p1f1_gn_201001-201412.nc',\n",
    "                    'DJF', gridlines=True)\n",
    "plt.show()"
   ]
  },
  {
   "cell_type": "code",
   "execution_count": null,
   "id": "766722c9",
   "metadata": {},
   "outputs": [],
   "source": [
    "def convert_pr_units(darray):\n",
    "    \"\"\"Convert kg m-2 s-1 to mm day-1.\n",
    "   \n",
    "    Args:\n",
    "      darray (xarray.DataArray): Precipitation data\n",
    "   \n",
    "    \"\"\"\n",
    "   \n",
    "    darray.data = darray.data * 86400\n",
    "    darray.attrs['units'] = 'mm/day'\n",
    "   \n",
    "    return darray\n",
    "\n",
    "\n",
    "def create_plot(clim, model, season, gridlines=False):\n",
    "    \"\"\"Plot the precipitation climatology.\n",
    "   \n",
    "    Args:\n",
    "      clim (xarray.DataArray): Precipitation climatology data\n",
    "      model (str) : Name of the climate model\n",
    "      season (str): Season \n",
    "   \n",
    "    Kwargs:  \n",
    "      gridlines (bool): Select whether to plot gridlines    \n",
    "   \n",
    "    \"\"\"\n",
    "       \n",
    "    fig = plt.figure(figsize=[12,5])\n",
    "    ax = fig.add_subplot(111, projection=ccrs.PlateCarree(central_longitude=180))\n",
    "    clim.sel(season=season).plot.contourf(ax=ax,\n",
    "                                          levels=np.arange(0, 13.5, 1.5),\n",
    "                                          extend='max',\n",
    "                                          transform=ccrs.PlateCarree(),\n",
    "                                          cbar_kwargs={'label': clim.units},\n",
    "                                          cmap=cmocean.cm.haline_r)\n",
    "    ax.coastlines()\n",
    "    if gridlines:\n",
    "        plt.gca().gridlines()\n",
    "   \n",
    "    title = f'{model} precipitation climatology ({season})'\n",
    "    plt.title(title)\n",
    "\n",
    "\n",
    "def plot_pr_climatology(pr_file, season, gridlines=False):\n",
    "    \"\"\"Plot the precipitation climatology.\n",
    "\n",
    "    Args:\n",
    "      pr_file (str): Precipitation data file\n",
    "      season (str): Season (3 letter abbreviation, e.g. JJA)\n",
    "      gridlines (bool): Select whether to plot gridlines\n",
    "\n",
    "    \"\"\"\n",
    "\n",
    "    dset = xr.open_dataset(pr_file)\n",
    "    clim = dset['pr'].groupby('time.season').mean('time', keep_attrs=True)\n",
    "    clim = convert_pr_units(clim)\n",
    "    create_plot(clim, dset.attrs['source_id'], season, gridlines=gridlines)\n",
    "    plt.show()"
   ]
  },
  {
   "cell_type": "code",
   "execution_count": null,
   "id": "fa90a264",
   "metadata": {},
   "outputs": [],
   "source": [
    "clim.data = unit_conversion.convert_pr_units(clim.data)"
   ]
  },
  {
   "cell_type": "markdown",
   "id": "037fb713",
   "metadata": {},
   "source": [
    "# Programas de líneas de comando"
   ]
  },
  {
   "cell_type": "code",
   "execution_count": null,
   "id": "56ad7254",
   "metadata": {},
   "outputs": [],
   "source": [
    "def main(inargs):\n",
    "    \"\"\"Run the program.\"\"\"\n",
    "\n",
    "    print('Input file: ', inargs.infile)\n",
    "    print('Output file: ', inargs.outfile)\n",
    "\n",
    "\n",
    "if __name__ == '__main__':\n",
    "\n",
    "    description='Print the input arguments to the screen.'\n",
    "    parser = argparse.ArgumentParser(description=description)\n",
    "    \n",
    "    parser.add_argument(\"infile\", type=str, help=\"Input file name\")\n",
    "    parser.add_argument(\"outfile\", type=str, help=\"Output file name\")\n",
    "\n",
    "    args = parser.parse_args()            \n",
    "    main(args)"
   ]
  },
  {
   "cell_type": "code",
   "execution_count": null,
   "id": "f20ff028",
   "metadata": {},
   "outputs": [],
   "source": [
    "#Correr todo esto completo\n",
    "def convert_pr_units(darray):\n",
    "    \"\"\"Convert kg m-2 s-1 to mm day-1.\n",
    "    \n",
    "    Args:\n",
    "      darray (xarray.DataArray): Precipitation data\n",
    "    \n",
    "    \"\"\"\n",
    "    \n",
    "    darray.data = darray.data * 86400\n",
    "    darray.attrs['units'] = 'mm/day'\n",
    "    \n",
    "    return darray\n",
    "\n",
    "\n",
    "def create_plot(clim, model, season, gridlines=False):\n",
    "    \"\"\"Plot the precipitation climatology.\n",
    "    \n",
    "    Args:\n",
    "      clim (xarray.DataArray): Precipitation climatology data\n",
    "      model (str): Name of the climate model\n",
    "      season (str): Season\n",
    "      \n",
    "    Kwargs:  \n",
    "      gridlines (bool): Select whether to plot gridlines    \n",
    "    \n",
    "    \"\"\"\n",
    "        \n",
    "    fig = plt.figure(figsize=[12,5])\n",
    "    ax = fig.add_subplot(111, projection=ccrs.PlateCarree(central_longitude=180))\n",
    "    clim.sel(season=season).plot.contourf(ax=ax,\n",
    "                                          levels=np.arange(0, 13.5, 1.5),\n",
    "                                          extend='max',\n",
    "                                          transform=ccrs.PlateCarree(),\n",
    "                                          cbar_kwargs={'label': clim.units},\n",
    "                                          cmap=cmocean.cm.haline_r)\n",
    "    ax.coastlines()\n",
    "    if gridlines:\n",
    "        plt.gca().gridlines()\n",
    "    \n",
    "    title = f'{model} precipitation climatology ({season})'\n",
    "    plt.title(title)\n",
    "\n",
    "\n",
    "def main(inargs):\n",
    "    \"\"\"Run the program.\"\"\"\n",
    "\n",
    "    dset = xr.open_dataset(inargs.pr_file)\n",
    "    \n",
    "    clim = dset['pr'].groupby('time.season').mean('time', keep_attrs=True)\n",
    "    clim = convert_pr_units(clim)\n",
    "\n",
    "    create_plot(clim, dset.attrs['source_id'], inargs.season)\n",
    "    plt.savefig(inargs.output_file, dpi=200)\n",
    "\n",
    "\n",
    "if __name__ == '__main__':\n",
    "    description='Plot the precipitation climatology.'\n",
    "    parser = argparse.ArgumentParser(description=description)\n",
    "    \n",
    "    parser.add_argument(\"pr_file\", type=str, help=\"Precipitation data file\")\n",
    "    parser.add_argument(\"season\", type=str, help=\"Season to plot\")\n",
    "    parser.add_argument(\"output_file\", type=str, help=\"Output file name\")\n",
    "\n",
    "    args = parser.parse_args()\n",
    "    \n",
    "    main(args)"
   ]
  },
  {
   "cell_type": "code",
   "execution_count": null,
   "id": "7dcaa88b",
   "metadata": {},
   "outputs": [],
   "source": []
  }
 ],
 "metadata": {
  "kernelspec": {
   "display_name": "Python 3",
   "language": "python",
   "name": "python3"
  },
  "language_info": {
   "codemirror_mode": {
    "name": "ipython",
    "version": 3
   },
   "file_extension": ".py",
   "mimetype": "text/x-python",
   "name": "python",
   "nbconvert_exporter": "python",
   "pygments_lexer": "ipython3",
   "version": "3.8.8"
  }
 },
 "nbformat": 4,
 "nbformat_minor": 5
}
